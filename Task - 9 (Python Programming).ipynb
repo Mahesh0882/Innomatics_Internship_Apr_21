{
 "cells": [
  {
   "cell_type": "markdown",
   "id": "2da14f79",
   "metadata": {},
   "source": [
    "<h2> Hypothesis Testing by</h2>  <h2> Kundurthi Venkata Mahesh </h2> <h2> #innominions-april-21 </h2>"
   ]
  },
  {
   "cell_type": "markdown",
   "id": "e4b5360c",
   "metadata": {},
   "source": [
    "<h2>Steps for Hypothesis Testing</h2>"
   ]
  },
  {
   "cell_type": "markdown",
   "id": "25133907",
   "metadata": {},
   "source": [
    "### Step - 1 :\n",
    "\n",
    "<b>Null Hypothesis (Status Quo): $ \\ \\ H_0 \\ \\Rightarrow \\ \\leq, \\ \\geq, \\ = $ <br></b>\n",
    "<b>Alternate Hypothesis (Bold claim): $ \\ \\ H_1 \\ \\Rightarrow \\ \\gt, \\ \\lt, \\ \\neq  $</b> <br>\n",
    "\n",
    "$ H_0 \\ : \\ ? $<br>\n",
    "$ H_1 \\ : \\ ? $"
   ]
  },
  {
   "cell_type": "markdown",
   "id": "6dcbc346",
   "metadata": {},
   "source": [
    "### Step - 2 :\n",
    "<ul>\n",
    "<li><b>Collect a sample of size n = 10 :  </b></li>\n",
    "<li><b>Compute sample mean : &nbsp; &nbsp; $ \\bar{x} = ?$</b></li>\n",
    "</ul>"
   ]
  },
  {
   "cell_type": "markdown",
   "id": "c56fcde5",
   "metadata": {},
   "source": [
    "### Step - 3 :\n",
    "\n",
    "#### Compute Test Statistic:\n",
    "<b> Since, Population Variance is Unknown, we will use t-test $$ t = \\frac{\\bar{x} \\ - \\mu}{s / \\sqrt{n}} $$</b>"
   ]
  },
  {
   "cell_type": "markdown",
   "id": "550ab908",
   "metadata": {},
   "source": [
    "### Step - 4 :\n",
    "\n",
    "<b>Decide $ \\alpha $ or significance level : </b> $ \\ \\ \\ \\alpha = 1 - Confidence\\_level $ <br>\n",
    "<b>Lower $ \\alpha $ means you need stronger evidence to reject Null Hypothesis.</b>"
   ]
  },
  {
   "cell_type": "markdown",
   "id": "375c2643",
   "metadata": {},
   "source": [
    "### Step - 5 :\n",
    "\n",
    "### Apply Decision Rule : \n",
    "<b>As test statistic is t-score : </b>\n",
    "<ul>\n",
    "    <li>Two-Tailed t-test :$$ |{t}| \\ \\gt \\ t_{n-1}, \\ _\\frac{\\alpha}{2} \\ \\Rightarrow \\ Accept \\ H_1 \\ or \\ Reject \\ H_0 $$</li>\n",
    "    <li>Right tailed t-test : $$ t \\ \\gt \\ t_{n-1}, \\ _\\alpha \\ \\Rightarrow \\ Accept \\ H_1 \\ or \\ Reject \\ H_0 $$</li>\n",
    "    <li>Left tailed t-test : $$ t \\ \\lt \\ t_{n-1}, \\ _\\alpha \\ \\Rightarrow \\ Accept \\ H_1 \\ or \\ Reject \\ H_0 $$</li>\n",
    "</ul>\n",
    "\n",
    "#### Compute p-value $ P(Test \\ Statistics | H_0) $\n",
    "<ul>\n",
    "    <li>Two-Tailed Test : $$ p\\_value \\ = \\ 2 \\star (1.0 \\ - \\ cdf(test \\ statistic)) $$</li>\n",
    "    <li>One-Tailed Test : $$ p\\_value \\ = \\ 1 \\star (1.0 \\ - \\ cdf(test \\ statistic)) $$</li>\n",
    "</ul>\n",
    "\n",
    "Now, $$ If \\ (p\\_value \\ \\lt \\ \\alpha) \\ \\Rightarrow \\ Accept \\ H_1 \\ or \\ Reject \\ H_0 $$"
   ]
  },
  {
   "cell_type": "code",
   "execution_count": 1,
   "id": "eb10df4e",
   "metadata": {},
   "outputs": [],
   "source": [
    "# Importing the necessary libraries\n",
    "\n",
    "import matplotlib.pyplot as plt\n",
    "import numpy as np\n",
    "from scipy.stats import norm\n",
    "from scipy.stats import t\n",
    "import math"
   ]
  },
  {
   "cell_type": "code",
   "execution_count": 2,
   "id": "f76d3041",
   "metadata": {},
   "outputs": [],
   "source": [
    "# Function to calculate t_score value\n",
    "\n",
    "def t_score(pop_mean, sample_mean, sample_std, sample_size):\n",
    "    numerator = sample_mean - pop_mean\n",
    "    denomenator = sample_std / (sample_size**0.5)\n",
    "    return numerator / denomenator"
   ]
  },
  {
   "cell_type": "markdown",
   "id": "6886d6ea",
   "metadata": {},
   "source": [
    "### Q-1: Pista House selling Hyderabadi Chicken Dum biryani claims that each parcel packet has 500 grams of biryani (also mentioned on the label of packet). You are sceptic of their claims and believe that on average each packet does not contain 500 grams of biryani. How do you prove your claim? <strike>(Given that the population std is 50)</strike>"
   ]
  },
  {
   "cell_type": "markdown",
   "id": "b3ffef70",
   "metadata": {},
   "source": [
    "### Step - 1 :"
   ]
  },
  {
   "cell_type": "markdown",
   "id": "6b2decbd",
   "metadata": {},
   "source": [
    "In this case, <br>\n",
    "$ H_0 \\ \\Rightarrow \\ \\mu \\ = 500 $ <br>\n",
    "$ H_1 \\ \\Rightarrow \\ \\mu \\ \\neq 500 $ <br>"
   ]
  },
  {
   "cell_type": "code",
   "execution_count": null,
   "id": "6f74b509",
   "metadata": {},
   "outputs": [],
   "source": [
    "# Null Hypothise is our Population Mean\n",
    "pop_mean = 500"
   ]
  },
  {
   "cell_type": "markdown",
   "id": "1159ac16",
   "metadata": {},
   "source": [
    "### Step - 2 : "
   ]
  },
  {
   "cell_type": "markdown",
   "id": "729fce47",
   "metadata": {},
   "source": [
    "<ul>\n",
    "<li><b>Collect a sample of size n = 10 :  </b>&nbsp;  &nbsp; &nbsp; [490, 220, 470, 500, 495, 496, 496, 498, 508, 480]</li>\n",
    "<li><b>Compute sample mean : &nbsp; &nbsp; $ \\ \\ \\ \\ \\ \\ \\ \\  \\ \\ \\ \\ \\bar{x} = 465.3 $</b></li>\n",
    "</ul>"
   ]
  },
  {
   "cell_type": "code",
   "execution_count": 3,
   "id": "077c8838",
   "metadata": {},
   "outputs": [
    {
     "name": "stdout",
     "output_type": "stream",
     "text": [
      "Sample Mean : 465.3\n"
     ]
    }
   ],
   "source": [
    "sample = [490, 220, 470, 500, 495, 496, 496, 498, 508, 480]\n",
    "sample = np.array(sample)\n",
    "\n",
    "# Sample Mean\n",
    "sample_mean = np.mean(sample)\n",
    "print('Sample Mean :', sample_mean)"
   ]
  },
  {
   "cell_type": "markdown",
   "id": "0f293951",
   "metadata": {},
   "source": [
    "### Step - 3 : "
   ]
  },
  {
   "cell_type": "markdown",
   "id": "32c46b2c",
   "metadata": {},
   "source": [
    "#### Compute Test Statistic, t-score:\n",
    "$$ t = \\frac{\\bar{x} \\ - \\mu}{s / \\sqrt{n}} $$\n"
   ]
  },
  {
   "cell_type": "code",
   "execution_count": 4,
   "id": "b82e7ec2",
   "metadata": {},
   "outputs": [
    {
     "name": "stdout",
     "output_type": "stream",
     "text": [
      "Sample Standard Deviation : 86.84859110991827\n"
     ]
    }
   ],
   "source": [
    "# Standard Deviation of the Sample\n",
    "\n",
    "sample_std = math.sqrt(sum([(i-sample_mean)**2 for i in sample]) / 9)\n",
    "print('Sample Standard Deviation :', sample_std)"
   ]
  },
  {
   "cell_type": "code",
   "execution_count": 5,
   "id": "1fec9ecc",
   "metadata": {},
   "outputs": [],
   "source": [
    "# Defining the Sample & Population Parameters\n",
    "\n",
    "pop_mean = 500\n",
    "sample_mean = 465.3\n",
    "sample_std = 86.8\n",
    "sample_size = 10"
   ]
  },
  {
   "cell_type": "code",
   "execution_count": 6,
   "id": "71d4dbed",
   "metadata": {},
   "outputs": [
    {
     "name": "stdout",
     "output_type": "stream",
     "text": [
      "t-score : -1.2641824286617827\n"
     ]
    }
   ],
   "source": [
    "# Calculating the t-score\n",
    "\n",
    "t_sc = t_score(pop_mean, sample_mean, sample_std, sample_size)\n",
    "print('t-score :', t_sc)"
   ]
  },
  {
   "cell_type": "markdown",
   "id": "df04070e",
   "metadata": {},
   "source": [
    "### Step - 4 :"
   ]
  },
  {
   "cell_type": "markdown",
   "id": "781f9f96",
   "metadata": {},
   "source": [
    "<b> Decide $ \\alpha $ or significance level : </b> $ \\ \\ \\ \\alpha = 1 - Confidence\\_level $ <br>\n",
    "This is a <b>Two Tailed Test</b>"
   ]
  },
  {
   "cell_type": "code",
   "execution_count": 8,
   "id": "8e3275d6",
   "metadata": {},
   "outputs": [
    {
     "name": "stdout",
     "output_type": "stream",
     "text": [
      "t_critical : 2.2621571627409915\n"
     ]
    }
   ],
   "source": [
    "# Two Tail - Deciding the Significance Level & Calculating the t-critical value\n",
    "\n",
    "confidence_level = 0.95\n",
    "alpha = 1 - confidence_level\n",
    "\n",
    "t_critical = t.ppf(1-alpha/2, df = 9)\n",
    "print('t_critical :', t_critical)"
   ]
  },
  {
   "cell_type": "markdown",
   "id": "725649d2",
   "metadata": {},
   "source": [
    "#### Visualizing the Sampling Distribution with Rejection Regions"
   ]
  },
  {
   "cell_type": "code",
   "execution_count": 9,
   "id": "96fd2455",
   "metadata": {},
   "outputs": [
    {
     "name": "stdout",
     "output_type": "stream",
     "text": [
      "t_critical_left : 437.90702056331673\n",
      "t_critical_right : 562.0929794366832\n"
     ]
    },
    {
     "data": {
      "text/plain": [
       "Text(465.3, 0.0007, 'x_bar')"
      ]
     },
     "execution_count": 9,
     "metadata": {},
     "output_type": "execute_result"
    },
    {
     "data": {
      "image/png": "[encoded data removed]",
      "text/plain": [
       "<Figure size 432x288 with 1 Axes>"
      ]
     },
     "metadata": {
      "needs_background": "light"
     },
     "output_type": "display_data"
    }
   ],
   "source": [
    "# Defining the x min & x max\n",
    "x_min = 375\n",
    "x_max = 625\n",
    "\n",
    "# Defining the Sampling Distribution mean & std\n",
    "mean = pop_mean\n",
    "std = sample_std / (sample_size**0.5)\n",
    "\n",
    "# Ploting the graph and setting the x limits\n",
    "x = np.linspace(x_min, x_max, 100)\n",
    "y = norm.pdf(x, mean, std)\n",
    "plt.xlim(x_min, x_max)\n",
    "plt.plot(x, y)\n",
    "\n",
    "# Computing the left and right critical values of Two tailed Test\n",
    "t_critical_left = pop_mean + (-t_critical * std)\n",
    "t_critical_right = pop_mean + (t_critical * std)\n",
    "\n",
    "print('t_critical_left :', t_critical_left)\n",
    "print('t_critical_right :', t_critical_right)\n",
    "\n",
    "# Shading the left rejection region\n",
    "x_left = np.linspace(x_min, t_critical_left, 100)\n",
    "y_left = norm.pdf(x_left, mean, std)\n",
    "plt.fill_between(x_left, y_left, color='red')\n",
    "\n",
    "# Shading the right rejection region\n",
    "x_right = np.linspace(t_critical_right, x_max, 100)\n",
    "y_right = norm.pdf(x_right, mean, std)\n",
    "plt.fill_between(x_right, y_right, color='red')\n",
    "\n",
    "# Ploting the sample mean and concluding the results \n",
    "plt.scatter(sample_mean, 0)\n",
    "plt.annotate(\"x_bar\", (sample_mean, 0.0007))"
   ]
  },
  {
   "cell_type": "markdown",
   "id": "4aecfb07",
   "metadata": {},
   "source": [
    "Here in this case, Sample Mean does not fall in the Rejection Region <br>\n",
    "That means, We <b>Fail to Reject Null Hypothesis</b>"
   ]
  },
  {
   "cell_type": "markdown",
   "id": "daafdf50",
   "metadata": {},
   "source": [
    "### Step - 5 :"
   ]
  },
  {
   "cell_type": "markdown",
   "id": "044c2e96",
   "metadata": {},
   "source": [
    "#### <u>Apply Decision Rule</u> : \n",
    "<b>As test statistic is t-score AND it's a Two-Tailed t-test, then , </b>\n",
    "    $$ |{t}| \\ \\gt \\ t_{n-1}, \\ _\\frac{\\alpha}{2} \\ \\Rightarrow \\ Accept \\ H_1 \\ or \\ Reject \\ H_0 $$\n",
    "\n",
    "#### Compute p-value $ P(Test \\ Statistics | H_0) $ <br>\n",
    "   <b>For Two-Tailed Test :</b> $$ p\\_value \\ = \\ 2 \\star (1.0 \\ - \\ cdf(test \\ statistic)) $$"
   ]
  },
  {
   "cell_type": "code",
   "execution_count": 10,
   "id": "81b28a80",
   "metadata": {},
   "outputs": [
    {
     "name": "stdout",
     "output_type": "stream",
     "text": [
      "Fail to reject Null Hypothesis\n"
     ]
    }
   ],
   "source": [
    "# Conclusion using t-test\n",
    "\n",
    "if np.abs(t_sc) > t_critical:\n",
    "    print(\"Reject Null Hypothesis\")\n",
    "else:\n",
    "    print(\"Fail to reject Null Hypothesis\")"
   ]
  },
  {
   "cell_type": "code",
   "execution_count": 11,
   "id": "b56b784e",
   "metadata": {},
   "outputs": [
    {
     "name": "stdout",
     "output_type": "stream",
     "text": [
      "p_value =  0.20616455613128926\n",
      "Fail to reject Null Hypothesis\n"
     ]
    }
   ],
   "source": [
    "# Conclusion using p-test\n",
    "\n",
    "p_value = 2 * (1.0 - norm.cdf(np.abs(t_sc)))\n",
    "\n",
    "print(\"p_value = \", p_value)\n",
    "\n",
    "if p_value < alpha:\n",
    "    print(\"Reject Null Hypothesis\")\n",
    "else:\n",
    "    print(\"Fail to reject Null Hypothesis\")"
   ]
  },
  {
   "cell_type": "markdown",
   "id": "1076f635",
   "metadata": {},
   "source": [
    "### Q-2: You have developed a new Natural Language Processing Algorithms and done a user study. You claim that the average rating given by the users is greater than 4 on a scale of 1 to 5. How do you prove this to your client? <strike>(Given that the population std is 0.5)</strike>"
   ]
  },
  {
   "cell_type": "markdown",
   "id": "38c35d15",
   "metadata": {},
   "source": [
    "### Step - 1 :"
   ]
  },
  {
   "cell_type": "markdown",
   "id": "98de826d",
   "metadata": {},
   "source": [
    "In this case, <br>\n",
    "$ H_0 \\ \\Rightarrow \\ \\mu \\ \\leq 4 $ <br>\n",
    "$ H_1 \\ \\Rightarrow \\ \\mu \\ \\gt 4 $ <br>"
   ]
  },
  {
   "cell_type": "code",
   "execution_count": 12,
   "id": "873f01e5",
   "metadata": {},
   "outputs": [],
   "source": [
    "# So here the Population Mean\n",
    "pop_mean = 4"
   ]
  },
  {
   "cell_type": "markdown",
   "id": "f3c4e428",
   "metadata": {},
   "source": [
    "### Step - 2 :"
   ]
  },
  {
   "cell_type": "markdown",
   "id": "c3479216",
   "metadata": {},
   "source": [
    "<ul>\n",
    "<li><b>Collect a sample of size n = 20 :  </b>&nbsp;  &nbsp; &nbsp; $$ [4, 3, 5, 4, 5, 3, 5, 5, 4, 2, 4, 5, 5, 4, 4, 5, 4, 5, 4, 5] $$\n",
    "</li>\n",
    "<li><b>Compute sample mean : &nbsp; &nbsp; $$ \\bar{x} = 4.25 $$</b></li>\n",
    "</ul>"
   ]
  },
  {
   "cell_type": "code",
   "execution_count": 13,
   "id": "3ff8d1c5",
   "metadata": {},
   "outputs": [
    {
     "name": "stdout",
     "output_type": "stream",
     "text": [
      "Sample Mean : 4.25\n"
     ]
    }
   ],
   "source": [
    "sample = [4, 3, 5, 4, 5, 3, 5, 5, 4, 2, 4, 5, 5, 4, 4, 5, 4, 5, 4, 5]\n",
    "sample = np.array(sample)\n",
    "\n",
    "# Sample Mean\n",
    "sample_mean = np.mean(sample)\n",
    "print('Sample Mean :', sample_mean)"
   ]
  },
  {
   "cell_type": "markdown",
   "id": "be8584ee",
   "metadata": {},
   "source": [
    "### Step - 3 :"
   ]
  },
  {
   "cell_type": "markdown",
   "id": "f7f2ad06",
   "metadata": {},
   "source": [
    "#### Compute t-score:\n",
    "$$ t = \\frac{\\bar{x} \\ - \\mu}{s / \\sqrt{n}} $$</b>"
   ]
  },
  {
   "cell_type": "code",
   "execution_count": 14,
   "id": "7edc39bc",
   "metadata": {},
   "outputs": [
    {
     "name": "stdout",
     "output_type": "stream",
     "text": [
      "Sample Standard Deviation : 0.8506963092234007\n"
     ]
    }
   ],
   "source": [
    "# Standard Deviation of the Sample\n",
    "\n",
    "sample_std = math.sqrt(sum([(i-sample_mean)**2 for i in sample]) / (len(sample)-1))\n",
    "print('Sample Standard Deviation :', sample_std)"
   ]
  },
  {
   "cell_type": "code",
   "execution_count": 15,
   "id": "e9d2644e",
   "metadata": {},
   "outputs": [],
   "source": [
    "# Defining the Sample & Population Parameters\n",
    "\n",
    "pop_mean = 4\n",
    "sample_mean = 4.25\n",
    "sample_std = 0.85\n",
    "sample_size = 20"
   ]
  },
  {
   "cell_type": "code",
   "execution_count": 16,
   "id": "4287bfe7",
   "metadata": {},
   "outputs": [
    {
     "name": "stdout",
     "output_type": "stream",
     "text": [
      "t-score : 1.3153341044116411\n"
     ]
    }
   ],
   "source": [
    "# Calculating the t-score\n",
    "\n",
    "t_sc = t_score(pop_mean, sample_mean, sample_std, sample_size)\n",
    "print('t-score :', t_sc)"
   ]
  },
  {
   "cell_type": "markdown",
   "id": "c1048eaa",
   "metadata": {},
   "source": [
    "### Step - 4 :"
   ]
  },
  {
   "cell_type": "markdown",
   "id": "31c22f0c",
   "metadata": {},
   "source": [
    "<b>Decide $ \\alpha $ or significance level : </b> $ \\ \\ \\ \\alpha = 1 - Confidence\\_level $ <br>\n",
    "This is a <b>Right Tailed Test </b>"
   ]
  },
  {
   "cell_type": "code",
   "execution_count": 17,
   "id": "71605437",
   "metadata": {},
   "outputs": [
    {
     "name": "stdout",
     "output_type": "stream",
     "text": [
      "t_critical : 1.729132811521367\n"
     ]
    }
   ],
   "source": [
    "# Right Tailed - Deciding the Significance Level & Calculating the t-critical value\n",
    "\n",
    "confidence_level = 0.95\n",
    "alpha = 1 - confidence_level\n",
    "\n",
    "t_critical = t.ppf(1-alpha, df = 19)\n",
    "print('t_critical :', t_critical)"
   ]
  },
  {
   "cell_type": "code",
   "execution_count": 18,
   "id": "bfc41749",
   "metadata": {},
   "outputs": [
    {
     "name": "stdout",
     "output_type": "stream",
     "text": [
      "t_critical_right : 4.328648973238404\n"
     ]
    },
    {
     "data": {
      "text/plain": [
       "Text(4.25, 0.1, 'x_bar')"
      ]
     },
     "execution_count": 18,
     "metadata": {},
     "output_type": "execute_result"
    },
    {
     "data": {
      "image/png": "[encoded data removed]",
      "text/plain": [
       "<Figure size 432x288 with 1 Axes>"
      ]
     },
     "metadata": {
      "needs_background": "light"
     },
     "output_type": "display_data"
    }
   ],
   "source": [
    "# Visualizing the Sampling Distribution with Rejection Regions\n",
    "\n",
    "# Defining the x min & x max\n",
    "x_min = 3\n",
    "x_max = 5\n",
    "\n",
    "# Defining the Sampling Distribution mean & std\n",
    "mean = pop_mean\n",
    "std = sample_std / (sample_size**0.5)\n",
    "\n",
    "# Ploting the graph and setting the x limits\n",
    "x = np.linspace(x_min, x_max, 100)\n",
    "y = norm.pdf(x, mean, std)\n",
    "plt.xlim(x_min, x_max)\n",
    "plt.plot(x, y)\n",
    "\n",
    "# Computing the right critical values of Two tailed Test\n",
    "\n",
    "t_critical_right = pop_mean + (t_critical * std)\n",
    "print('t_critical_right :', t_critical_right)\n",
    "\n",
    "# Shading the right rejection region\n",
    "x_right = np.linspace(t_critical_right, x_max, 100)\n",
    "y_right = norm.pdf(x_right, mean, std)\n",
    "plt.fill_between(x_right, y_right, color='red')\n",
    "\n",
    "# Ploting the sample mean and concluding the results \n",
    "plt.scatter(sample_mean, 0)\n",
    "plt.annotate(\"x_bar\", (sample_mean, 0.1))"
   ]
  },
  {
   "cell_type": "markdown",
   "id": "ef6e00a5",
   "metadata": {},
   "source": [
    "In this case, we can see that Sample Mean is not falling in the Rejected Region, <br>\n",
    "Hence, we <b>Fail to Reject Null Hypothesis</b>"
   ]
  },
  {
   "cell_type": "markdown",
   "id": "94c6d796",
   "metadata": {},
   "source": [
    "### Step - 5 :"
   ]
  },
  {
   "cell_type": "markdown",
   "id": "f8b0e0db",
   "metadata": {},
   "source": [
    "#### <u>Apply Decision Rule</u> :\n",
    "<b>As test statistic is t-score AND it's a Right tailed t-test ,</b>\n",
    "    $$ t \\ \\gt \\ t_{n-1}, \\ _\\alpha \\ \\Rightarrow \\ Accept \\ H_1 \\ or \\ Reject \\ H_0 $$\n",
    "\n",
    "#### Compute p-value $ \\ P(Test \\ Statistics | H_0) $\n",
    "   <b>As it's One-Tailed Test , $$ p\\_value \\ = \\ 1 \\star (1.0 \\ - \\ cdf(test \\ statistic)) $$</b>"
   ]
  },
  {
   "cell_type": "code",
   "execution_count": 19,
   "id": "b69c0094",
   "metadata": {},
   "outputs": [
    {
     "name": "stdout",
     "output_type": "stream",
     "text": [
      "Fail to reject Null Hypothesis\n"
     ]
    }
   ],
   "source": [
    "# Conclusion using t-test\n",
    "\n",
    "if t_sc > t_critical:\n",
    "    print(\"Reject Null Hypothesis\")\n",
    "else:\n",
    "    print(\"Fail to reject Null Hypothesis\")"
   ]
  },
  {
   "cell_type": "code",
   "execution_count": 20,
   "id": "6760e880",
   "metadata": {},
   "outputs": [
    {
     "name": "stdout",
     "output_type": "stream",
     "text": [
      "p_value =  0.09419882054165774\n",
      "Fail to reject Null Hypothesis\n"
     ]
    }
   ],
   "source": [
    "# Conclusion using p-test\n",
    "\n",
    "p_value = 1 * (1.0 - norm.cdf(np.abs(t_sc)))\n",
    "\n",
    "print(\"p_value = \", p_value)\n",
    "\n",
    "if p_value < alpha:\n",
    "    print(\"Reject Null Hypothesis\")\n",
    "else:\n",
    "    print(\"Fail to reject Null Hypothesis\")"
   ]
  },
  {
   "cell_type": "markdown",
   "id": "8e6bac6c",
   "metadata": {},
   "source": [
    "### Q-3: TATA has developed a better fuel management system for the SUV segment. They claim that with this system, on average the SUV's mileage is at least 15 km/litre? <strike>(Given that the population std is 1)</strike>"
   ]
  },
  {
   "cell_type": "markdown",
   "id": "657dcfed",
   "metadata": {},
   "source": [
    "### Step - 1 :"
   ]
  },
  {
   "cell_type": "markdown",
   "id": "7043cdba",
   "metadata": {},
   "source": [
    "In this case, <br>\n",
    "$ H_0 \\ \\Rightarrow \\ \\mu \\ \\leq 15 $ <br>\n",
    "$ H_1 \\ \\Rightarrow \\ \\mu \\ \\gt 15 $ <br>"
   ]
  },
  {
   "cell_type": "markdown",
   "id": "a31565e0",
   "metadata": {},
   "source": [
    "### Step - 2 :"
   ]
  },
  {
   "cell_type": "markdown",
   "id": "c717c458",
   "metadata": {},
   "source": [
    "<ul>\n",
    "<li><b>Collect a sample of size n = 20 :  </b>&nbsp;  &nbsp; &nbsp; $$ $$ [14.08, 14.13, 15.65, 13.78, 16.26, 14.97, 15.36, 15.81, 14.53, 16.79, 15.78, 16.98, 13.23, 15.43, 15.46, 13.88, 14.31, 14.41, 15.76, 15.38] $$ $$\n",
    "</li>\n",
    "<li><b>Compute sample mean : &nbsp; &nbsp; $$ \\bar{x} = 15.099 $$</b></li>\n",
    "</ul>"
   ]
  },
  {
   "cell_type": "code",
   "execution_count": 21,
   "id": "13e55386",
   "metadata": {},
   "outputs": [
    {
     "name": "stdout",
     "output_type": "stream",
     "text": [
      "Sample Mean : 15.099\n"
     ]
    }
   ],
   "source": [
    "sample = [14.08, 14.13, 15.65, 13.78, 16.26, 14.97, 15.36, 15.81, 14.53, 16.79, 15.78, 16.98, 13.23, 15.43, 15.46, 13.88, 14.31, 14.41, 15.76, 15.38]\n",
    "sample = np.array(sample)\n",
    "\n",
    "# Sample Mean\n",
    "sample_mean = np.mean(sample)\n",
    "print('Sample Mean :', sample_mean)"
   ]
  },
  {
   "cell_type": "markdown",
   "id": "98ae9479",
   "metadata": {},
   "source": [
    "### Step - 3 :"
   ]
  },
  {
   "cell_type": "markdown",
   "id": "0d564c9f",
   "metadata": {},
   "source": [
    "#### Compute Test Statistic, t_score ,\n",
    "$$ t = \\frac{\\bar{x} \\ - \\mu}{s / \\sqrt{n}} $$</b>"
   ]
  },
  {
   "cell_type": "code",
   "execution_count": 22,
   "id": "0610a7e6",
   "metadata": {},
   "outputs": [
    {
     "name": "stdout",
     "output_type": "stream",
     "text": [
      "Sample Standard Deviation : 1.0253671999517255\n"
     ]
    }
   ],
   "source": [
    "# Standard Deviation of the Sample\n",
    "\n",
    "sample_std = math.sqrt(sum([(i-sample_mean)**2 for i in sample]) / (len(sample)-1))\n",
    "print('Sample Standard Deviation :', sample_std)"
   ]
  },
  {
   "cell_type": "code",
   "execution_count": 23,
   "id": "96239529",
   "metadata": {},
   "outputs": [],
   "source": [
    "# Defining the Sample & Population Parameters\n",
    "\n",
    "pop_mean = 15\n",
    "sample_mean = 15.1\n",
    "sample_std = 1\n",
    "sample_size = 20"
   ]
  },
  {
   "cell_type": "code",
   "execution_count": 24,
   "id": "7d342b77",
   "metadata": {},
   "outputs": [
    {
     "name": "stdout",
     "output_type": "stream",
     "text": [
      "t-score : 0.4472135954999564\n"
     ]
    }
   ],
   "source": [
    "# Calculating the t-score\n",
    "\n",
    "t_sc = t_score(pop_mean, sample_mean, sample_std, sample_size)\n",
    "print('t-score :', t_sc)"
   ]
  },
  {
   "cell_type": "markdown",
   "id": "3f4435b8",
   "metadata": {},
   "source": [
    "### Step - 4 :"
   ]
  },
  {
   "cell_type": "markdown",
   "id": "9e795e1f",
   "metadata": {},
   "source": [
    "<b>Decide $ \\alpha $ or significance level : </b> $ \\ \\ \\ \\alpha = 1 - Confidence\\_level $ <br>\n",
    "<br>\n",
    "This is a <b>Right Tailed Test</b>"
   ]
  },
  {
   "cell_type": "code",
   "execution_count": 25,
   "id": "01edd59c",
   "metadata": {},
   "outputs": [
    {
     "name": "stdout",
     "output_type": "stream",
     "text": [
      "t_critical : 1.729132811521367\n"
     ]
    }
   ],
   "source": [
    "# Deciding the Significance Level & Calculating the t-critical value\n",
    "\n",
    "confidence_level = 0.95\n",
    "alpha = 1 - confidence_level\n",
    "\n",
    "t_critical = t.ppf(1-alpha, df = 19)\n",
    "print('t_critical :', t_critical)"
   ]
  },
  {
   "cell_type": "markdown",
   "id": "29822643",
   "metadata": {},
   "source": [
    "#### Visualizing the Sampling Distribution with Rejection Region"
   ]
  },
  {
   "cell_type": "code",
   "execution_count": 26,
   "id": "a685bce7",
   "metadata": {},
   "outputs": [
    {
     "name": "stdout",
     "output_type": "stream",
     "text": [
      "t_critical_right : 15.38664585086871\n"
     ]
    },
    {
     "data": {
      "text/plain": [
       "Text(15.1, 0.1, 'x_bar')"
      ]
     },
     "execution_count": 26,
     "metadata": {},
     "output_type": "execute_result"
    },
    {
     "data": {
      "image/png": "[encoded data removed]",
      "text/plain": [
       "<Figure size 432x288 with 1 Axes>"
      ]
     },
     "metadata": {
      "needs_background": "light"
     },
     "output_type": "display_data"
    }
   ],
   "source": [
    "# Defining the x min & x max\n",
    "x_min = 14\n",
    "x_max = 16\n",
    "\n",
    "# Defining the Sampling Distribution mean & std\n",
    "mean = pop_mean\n",
    "std = sample_std / (sample_size**0.5)\n",
    "\n",
    "# Ploting the graph and setting the x limits\n",
    "x = np.linspace(x_min, x_max, 100)\n",
    "y = norm.pdf(x, mean, std)\n",
    "plt.xlim(x_min, x_max)\n",
    "plt.plot(x, y)\n",
    "\n",
    "# Computing the right critical values of Right tailed Test\n",
    "\n",
    "t_critical_right = pop_mean + (t_critical * std)\n",
    "print('t_critical_right :', t_critical_right)\n",
    "\n",
    "# Shading the right rejection region\n",
    "x_right = np.linspace(t_critical_right, x_max, 100)\n",
    "y_right = norm.pdf(x_right, mean, std)\n",
    "plt.fill_between(x_right, y_right, color='red')\n",
    "\n",
    "# Ploting the sample mean and concluding the results \n",
    "plt.scatter(sample_mean, 0)\n",
    "plt.annotate(\"x_bar\", (sample_mean, 0.1))"
   ]
  },
  {
   "cell_type": "markdown",
   "id": "6e7b4469",
   "metadata": {},
   "source": [
    "In this Case, Sample Mean is not falling in the Rejection Region,<br>\n",
    "Hence, we <b>Fail to reject Null Hypothesis</b>."
   ]
  },
  {
   "cell_type": "markdown",
   "id": "f97f219e",
   "metadata": {},
   "source": [
    "### Step - 5 :"
   ]
  },
  {
   "cell_type": "markdown",
   "id": "f2a344ae",
   "metadata": {},
   "source": [
    "#### <u>Apply Decision Rule</u> :\n",
    "<b>As test statistic is t-score AND it's a Right tailed t-test ,</b>\n",
    "    $$ t \\ \\gt \\ t_{n-1}, \\ _\\alpha \\ \\Rightarrow \\ Accept \\ H_1 \\ or \\ Reject \\ H_0 $$\n",
    "\n",
    "#### Compute p-value $ \\ P(Test \\ Statistics | H_0) $\n",
    "   <b>As it's One-Tailed Test , $$ p\\_value \\ = \\ 1 \\star (1.0 \\ - \\ cdf(test \\ statistic)) $$</b>"
   ]
  },
  {
   "cell_type": "code",
   "execution_count": 27,
   "id": "766da8d6",
   "metadata": {},
   "outputs": [
    {
     "name": "stdout",
     "output_type": "stream",
     "text": [
      "Fail to reject Null Hypothesis\n"
     ]
    }
   ],
   "source": [
    "# Conclusion using t-test\n",
    "\n",
    "if t_sc > t_critical:\n",
    "    print(\"Reject Null Hypothesis\")\n",
    "else:\n",
    "    print(\"Fail to reject Null Hypothesis\")"
   ]
  },
  {
   "cell_type": "code",
   "execution_count": 28,
   "id": "15017f14",
   "metadata": {},
   "outputs": [
    {
     "name": "stdout",
     "output_type": "stream",
     "text": [
      "p_value =  0.32736042300928914\n",
      "Fail to reject Null Hypothesis\n"
     ]
    }
   ],
   "source": [
    "# Conclusion using p-test\n",
    "\n",
    "p_value = 1.0 - norm.cdf(np.abs(t_sc))\n",
    "\n",
    "print(\"p_value = \", p_value)\n",
    "\n",
    "if p_value < alpha:\n",
    "    print(\"Reject Null Hypothesis\")\n",
    "else:\n",
    "    print(\"Fail to reject Null Hypothesis\")"
   ]
  },
  {
   "cell_type": "markdown",
   "id": "763589a3",
   "metadata": {},
   "source": [
    "### Q-4: You have developed a new Machine Learning Application and claim that on average it takes less than 100 ms to predict for any future datapoint. How do you convince your client about this claim? <strike>(Based on past data you know that the std is 10 ms)</strike>"
   ]
  },
  {
   "cell_type": "markdown",
   "id": "9554942c",
   "metadata": {},
   "source": [
    "### Step - 1 :\n",
    "\n",
    "In this case, <br>\n",
    "$ H_0 \\ \\Rightarrow \\ \\mu \\ \\geq 100 $ <br>\n",
    "$ H_1 \\ \\Rightarrow \\ \\mu \\ \\lt 100 $ <br>"
   ]
  },
  {
   "cell_type": "code",
   "execution_count": 29,
   "id": "41f26eaf",
   "metadata": {},
   "outputs": [],
   "source": [
    "# Population Mean\n",
    "pop_mean = 100"
   ]
  },
  {
   "cell_type": "markdown",
   "id": "2fa7eb4f",
   "metadata": {},
   "source": [
    "### Step - 2 :\n",
    "\n",
    "Collect a sample of size, n = 100 <br>\n",
    "Compute sample mean$$ \\bar{x} \\ = \\ 97.5 $$"
   ]
  },
  {
   "cell_type": "code",
   "execution_count": 30,
   "id": "cc3f382a",
   "metadata": {},
   "outputs": [],
   "source": [
    "# Lets assume,\n",
    "sample_size = 100\n",
    "sample_mean = 97.5"
   ]
  },
  {
   "cell_type": "markdown",
   "id": "a0763baa",
   "metadata": {},
   "source": [
    "### Step - 3 :\n",
    "\n",
    "#### Compute Test Statistic, t_score,\n",
    "$$ t = \\frac{\\bar{x} \\ - \\mu}{s / \\sqrt{n}} $$</b>"
   ]
  },
  {
   "cell_type": "code",
   "execution_count": 31,
   "id": "021bcfda",
   "metadata": {},
   "outputs": [],
   "source": [
    "# Defining the Sample & Population Parameters\n",
    "\n",
    "pop_mean = 100\n",
    "sample_mean = 97.5\n",
    "sample_std = 7      # Assumed\n",
    "sample_size = 100"
   ]
  },
  {
   "cell_type": "code",
   "execution_count": 32,
   "id": "504a0e81",
   "metadata": {},
   "outputs": [
    {
     "name": "stdout",
     "output_type": "stream",
     "text": [
      "t-score : -3.5714285714285716\n"
     ]
    }
   ],
   "source": [
    "# Calculating the t-score\n",
    "\n",
    "t_sc = t_score(pop_mean, sample_mean, sample_std, sample_size)\n",
    "print('t-score :', t_sc)"
   ]
  },
  {
   "cell_type": "markdown",
   "id": "46045cec",
   "metadata": {},
   "source": [
    "### Step - 4 :\n",
    "\n",
    "<b>Decide $ \\alpha $ or significance level : </b> $ \\ \\ \\ \\alpha = 1 - Confidence\\_level $ <br>\n",
    "<br>\n",
    "This is a <b>Left Tailed Test</b>"
   ]
  },
  {
   "cell_type": "code",
   "execution_count": 33,
   "id": "eb0ac05e",
   "metadata": {},
   "outputs": [
    {
     "name": "stdout",
     "output_type": "stream",
     "text": [
      "t_critical : 1.6603911559963895\n"
     ]
    }
   ],
   "source": [
    "# Deciding the Significance Level & Calculating the t-critical value\n",
    "\n",
    "confidence_level = 0.95\n",
    "alpha = 1 - confidence_level\n",
    "\n",
    "t_critical = t.ppf(1-alpha, df = 99)\n",
    "print('t_critical :', t_critical)"
   ]
  },
  {
   "cell_type": "markdown",
   "id": "f40e3bb4",
   "metadata": {},
   "source": [
    "#### Visualizing the Sampling Distribution with Rejection Region"
   ]
  },
  {
   "cell_type": "code",
   "execution_count": 34,
   "id": "a0d83e11",
   "metadata": {},
   "outputs": [
    {
     "name": "stdout",
     "output_type": "stream",
     "text": [
      "t_critical_left : 98.83772619080253\n"
     ]
    },
    {
     "data": {
      "text/plain": [
       "Text(97.5, 0.02, 'x_bar')"
      ]
     },
     "execution_count": 34,
     "metadata": {},
     "output_type": "execute_result"
    },
    {
     "data": {
      "image/png": "[encoded data removed]",
      "text/plain": [
       "<Figure size 432x288 with 1 Axes>"
      ]
     },
     "metadata": {
      "needs_background": "light"
     },
     "output_type": "display_data"
    }
   ],
   "source": [
    "# Defining x-min & x-max\n",
    "x_min = 97\n",
    "x_max = 103\n",
    "\n",
    "# Defining the Sample Distribution mean & std\n",
    "mean = pop_mean\n",
    "std = sample_std / (sample_size**0.5)\n",
    "\n",
    "# Plotting the graph & setting the x limits\n",
    "x = np.linspace(x_min, x_max, 100)\n",
    "y = norm.pdf(x, mean, std)\n",
    "plt.xlim(x_min, x_max)\n",
    "plt.plot(x, y)\n",
    "\n",
    "# Computing the left critical value for the Left tailed test\n",
    "t_critical_left = pop_mean + (-t_critical * std)\n",
    "print('t_critical_left :', t_critical_left)\n",
    "\n",
    "# Shading the Left Rejection Region\n",
    "x_left = np.linspace(x_min, t_critical_left, 100)\n",
    "y_left = norm.pdf(x_left, mean, std)\n",
    "plt.fill_between(x_left, y_left, color='red')\n",
    "\n",
    "# Plot the Sample_mean & concluding the result\n",
    "plt.scatter(sample_mean, 0)\n",
    "plt.annotate('x_bar', (sample_mean, 0.02))"
   ]
  },
  {
   "cell_type": "markdown",
   "id": "3bb7860a",
   "metadata": {},
   "source": [
    "### Step - 5 :\n",
    "\n",
    "#### <u>Apply Decision Rule</u> :\n",
    "<b>As test statistic is t-score AND it's a Left tailed t-test ,</b>\n",
    "    $$ t \\ \\lt \\ t_{n-1}, \\ _\\alpha \\ \\Rightarrow \\ Accept \\ H_1 \\ or \\ Reject \\ H_0 $$\n",
    "\n",
    "#### Compute p-value $ \\ P(Test \\ Statistics | H_0) $\n",
    "   <b>As it's One-Tailed Test , $$ p\\_value \\ = \\ 1 \\star (1.0 \\ - \\ cdf(test \\ statistic)) $$</b>\n",
    "\n",
    "Now, $$ If \\ (p\\_value \\ \\lt \\ \\alpha) \\ \\Rightarrow \\ Accept \\ H_1 \\ or \\ Reject \\ H_0 $$"
   ]
  },
  {
   "cell_type": "code",
   "execution_count": 35,
   "id": "d4094631",
   "metadata": {},
   "outputs": [
    {
     "name": "stdout",
     "output_type": "stream",
     "text": [
      "Reject Null Hypothesis\n"
     ]
    }
   ],
   "source": [
    "# Conclusion using t-test\n",
    "\n",
    "if t_sc < -t_critical:\n",
    "    print('Reject Null Hypothesis')\n",
    "else:\n",
    "    print(\"Fail to reject Null Hypothesis\")"
   ]
  },
  {
   "cell_type": "code",
   "execution_count": 36,
   "id": "bca694d0",
   "metadata": {},
   "outputs": [
    {
     "name": "stdout",
     "output_type": "stream",
     "text": [
      "p_value : 0.00017751969037349546\n",
      "Reject Null Hypothesis\n"
     ]
    }
   ],
   "source": [
    "# Conclusion using p-test\n",
    "\n",
    "p_value = 1.0 - norm.cdf(np.abs(t_sc))\n",
    "print('p_value :', p_value)\n",
    "\n",
    "if p_value < alpha:\n",
    "    print('Reject Null Hypothesis')\n",
    "else:\n",
    "    print('Fail to Reject Null Hypothesis')"
   ]
  }
 ],
 "metadata": {
  "kernelspec": {
   "display_name": "Python 3",
   "language": "python",
   "name": "python3"
  },
  "language_info": {
   "codemirror_mode": {
    "name": "ipython",
    "version": 3
   },
   "file_extension": ".py",
   "mimetype": "text/x-python",
   "name": "python",
   "nbconvert_exporter": "python",
   "pygments_lexer": "ipython3",
   "version": "3.8.6"
  }
 },
 "nbformat": 4,
 "nbformat_minor": 5
}
