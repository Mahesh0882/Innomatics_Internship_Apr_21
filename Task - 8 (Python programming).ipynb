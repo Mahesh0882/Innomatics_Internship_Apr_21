{
 "cells": [
  {
   "cell_type": "markdown",
   "id": "0cd8fb09",
   "metadata": {},
   "source": [
    "<h2>  Binomial Distribution I </h2>"
   ]
  },
  {
   "cell_type": "code",
   "execution_count": 2,
   "id": "311b4ff7",
   "metadata": {},
   "outputs": [
    {
     "name": "stdout",
     "output_type": "stream",
     "text": [
      "1 2\n",
      "0.32\n"
     ]
    }
   ],
   "source": [
    "# Question 1: \n",
    "\n",
    "from math import *\n",
    "\n",
    "def binomial_dist(x, n, p):\n",
    "    b = (factorial(n)/(factorial(x)*factorial(n-x))) * (p**x) * ((1-p)**(n-x))\n",
    "    return b\n",
    "    \n",
    "if __name__ == '__main__':\n",
    "    boy, girl = map(float, input().strip().split())\n",
    "    n , p = 6 , boy/(boy+girl)\n",
    "    b_dist = sum([binomial_dist(i, n, p) for i in range(3,7)])\n",
    "    \n",
    "    print(round(b_dist, 3))"
   ]
  },
  {
   "cell_type": "markdown",
   "id": "774d17f1",
   "metadata": {},
   "source": [
    "<h2>  Binomial Distribution II </h2>"
   ]
  },
  {
   "cell_type": "code",
   "execution_count": 3,
   "id": "ea2fd50f",
   "metadata": {},
   "outputs": [
    {
     "name": "stdout",
     "output_type": "stream",
     "text": [
      "10 5\n",
      "0.93\n",
      "0.264\n"
     ]
    }
   ],
   "source": [
    "# Question 2:\n",
    "\n",
    "from math import *\n",
    "\n",
    "def binomial_dist(x, n, p):\n",
    "    b = (factorial(n)/(factorial(x)*factorial(n-x))) * (p**x) * ((1-p)**(n-x))\n",
    "    return b\n",
    "    \n",
    "if __name__ == '__main__':\n",
    "    perc, piston_size = map(float, input().strip().split())\n",
    "    n , p = 10 , perc/100\n",
    "    b_dist = sum([binomial_dist(i, n, p) for i in range(3)])\n",
    "    b_dist2 = sum([binomial_dist(i, n, p) for i in range(2,11)])\n",
    "\n",
    "    print(round(b_dist, 3))\n",
    "    print(round(b_dist2, 3))"
   ]
  },
  {
   "cell_type": "markdown",
   "id": "4ebd4713",
   "metadata": {},
   "source": [
    "<h2>Normal Distribution I</h2>"
   ]
  },
  {
   "cell_type": "code",
   "execution_count": 5,
   "id": "fb6f08cf",
   "metadata": {},
   "outputs": [
    {
     "name": "stdout",
     "output_type": "stream",
     "text": [
      "20 2\n",
      "16.5\n",
      "20 24\n",
      "0.04\n",
      "0.477\n"
     ]
    }
   ],
   "source": [
    "# Question 3: Day 5: Normal Distribution I\n",
    "\n",
    "from math import *\n",
    "\n",
    "mean, std = map(int, input().strip().split())\n",
    "\n",
    "x = float(input())\n",
    "p_x = 0.5*(1 + erf((x - mean)/(std * sqrt(2.0))))\n",
    "\n",
    "lower, upper = map(int, input().strip().split())\n",
    "\n",
    "p_upper = 0.5*(1 + erf((upper - mean)/(std * sqrt(2.0))))\n",
    "p_lower = 0.5*(1 + erf((lower - mean)/(std * sqrt(2.0))))\n",
    "\n",
    "print(round(p_x , 3))\n",
    "print(round(p_upper - p_lower, 3))"
   ]
  },
  {
   "cell_type": "markdown",
   "id": "2c2fb9ab",
   "metadata": {},
   "source": [
    "<h2>Normal Distribution II</h2>"
   ]
  },
  {
   "cell_type": "code",
   "execution_count": 7,
   "id": "c7b5f788",
   "metadata": {},
   "outputs": [
    {
     "name": "stdout",
     "output_type": "stream",
     "text": [
      "80 10\n",
      "90\n",
      "70\n",
      "15.87\n",
      "84.13\n",
      "15.87\n"
     ]
    }
   ],
   "source": [
    "# Question 4: \n",
    "\n",
    "from math import *\n",
    "\n",
    "mean, std = map(int, input().strip().split())\n",
    "\n",
    "h_grade = int(input())\n",
    "l_grade = int(input())\n",
    "\n",
    "cdf_grade = lambda x : 0.5*(1 + erf((x - mean)/(std * sqrt(2))))\n",
    "\n",
    "print(round((1 - cdf_grade(h_grade)) * 100 , 2))\n",
    "print(round((1 - cdf_grade(l_grade)) * 100 , 2))\n",
    "print(round(cdf_grade(l_grade) * 100 , 2))"
   ]
  },
  {
   "cell_type": "markdown",
   "id": "50ea8574",
   "metadata": {},
   "source": [
    "<h2>The Central Limit Theorem I</h2>"
   ]
  },
  {
   "cell_type": "code",
   "execution_count": 9,
   "id": "204221c5",
   "metadata": {},
   "outputs": [
    {
     "name": "stdout",
     "output_type": "stream",
     "text": [
      "9700\n",
      "46\n",
      "210\n",
      "15\n",
      "0.6529\n"
     ]
    }
   ],
   "source": [
    "# Question 5: \n",
    "\n",
    "from math import *\n",
    "\n",
    "max_wght = int(input())\n",
    "box = int(input())\n",
    "mean = int(input())\n",
    "std = int(input())\n",
    "\n",
    "sample_mean = mean * box\n",
    "sample_std = std * sqrt(box)\n",
    "\n",
    "cdf = lambda x,sample_mean, sample_std : 0.5 * (1 + erf((x-sample_mean)/(sample_std * sqrt(2))))\n",
    "\n",
    "print(round(cdf(max_wght, sample_mean, sample_std), 4))"
   ]
  },
  {
   "cell_type": "markdown",
   "id": "a22e59b6",
   "metadata": {},
   "source": [
    "<h2>The Central Limit Theorem II</h2>"
   ]
  },
  {
   "cell_type": "code",
   "execution_count": null,
   "id": "3779996d",
   "metadata": {},
   "outputs": [],
   "source": [
    "# Question 6: \n",
    "\n",
    "from math import *\n",
    "\n",
    "ticket = int(input())\n",
    "student = int(input())\n",
    "mean = float(input())\n",
    "std = float(input())\n",
    "\n",
    "sample_mean = mean * student\n",
    "sample_std = std * sqrt(student)\n",
    "\n",
    "cdf = lambda x,sample_mean, sample_std : 0.5 * (1 + erf((x-sample_mean)/(sample_std * sqrt(2))))\n",
    "\n",
    "print(round(cdf(ticket, sample_mean, sample_std), 4))"
   ]
  },
  {
   "cell_type": "markdown",
   "id": "571b27f8",
   "metadata": {},
   "source": [
    "\n",
    "<h2>The Central Limit Theorem III</h2>"
   ]
  },
  {
   "cell_type": "code",
   "execution_count": null,
   "id": "37f295d6",
   "metadata": {},
   "outputs": [],
   "source": [
    "# Question 7:\n",
    "\n",
    "from math import *\n",
    "\n",
    "sample_size = int(input())\n",
    "mean = int(input())\n",
    "std = int(input())\n",
    "confidence = float(input())\n",
    "z = float(input())\n",
    "\n",
    "mu_neg = mean - z * (std / sqrt(sample_size))\n",
    "mu_pos = mean + z * (std / sqrt(sample_size))\n",
    "\n",
    "\n",
    "print(round(mu_neg, 2))\n",
    "print(round(mu_pos, 2))"
   ]
  },
  {
   "cell_type": "markdown",
   "id": "2815c91b",
   "metadata": {},
   "source": [
    "<h2>Pearson Correlation Coefficient I</h2>"
   ]
  },
  {
   "cell_type": "code",
   "execution_count": null,
   "id": "581a835b",
   "metadata": {},
   "outputs": [],
   "source": [
    "# Question 8: \n",
    "\n",
    "from math import *\n",
    "\n",
    "data_size = int(input())\n",
    "X = list(map(float, input().strip().split()))\n",
    "Y = list(map(float, input().strip().split()))\n",
    "\n",
    "X_mean = sum(X) / data_size\n",
    "X_std = sqrt(sum([(i-X_mean)**2 for i in X]) / data_size)\n",
    "\n",
    "Y_mean = sum(Y) / data_size\n",
    "Y_std = sqrt(sum([(i-Y_mean)**2 for i in Y]) / data_size)\n",
    "\n",
    "correlation = 0\n",
    "\n",
    "for i,j in zip(X,Y):\n",
    "    correlation += ((i - X_mean) * (j - Y_mean)) / (data_size * X_std * Y_std)\n",
    "\n",
    "\n",
    "print(round(correlation, 3))"
   ]
  },
  {
   "cell_type": "markdown",
   "id": "55c07d92",
   "metadata": {},
   "source": [
    "<h2>Least Square Regression Line</h2>"
   ]
  },
  {
   "cell_type": "code",
   "execution_count": null,
   "id": "8223acdc",
   "metadata": {},
   "outputs": [],
   "source": [
    "# Question 9:\n",
    "\n",
    "from math import *\n",
    "\n",
    "inp_X = 80\n",
    "\n",
    "x , y = [] , []\n",
    "for _ in range(5):\n",
    "    X , Y = map(int, input().strip().split())\n",
    "    x.append(X)\n",
    "    y.append(Y)\n",
    "    \n",
    "x_mean = sum(x) / 5\n",
    "y_mean = sum(y) / 5\n",
    "\n",
    "sum_sq_x = sum([i**2 for i in x])\n",
    "sum_sq_y = sum([i**2 for i in y])\n",
    "\n",
    "sum_xy = sum([i*j for i,j in zip(x,y)])\n",
    "\n",
    "b = ((5 * sum_xy) - (sum(x) * sum(y))) / ((5 * sum_sq_x) - (sum(x)**2))\n",
    "a = y_mean - (b * x_mean)\n",
    "\n",
    "reg = a + (b * inp_X)\n",
    "print(round(reg, 3))"
   ]
  },
  {
   "cell_type": "code",
   "execution_count": null,
   "id": "958256b8",
   "metadata": {},
   "outputs": [],
   "source": [
    "# Question 10\n",
    "\n",
    "from sklearn.linear_model import LinearRegression\n",
    "import numpy as np\n",
    "\n",
    "m,n = map(int, input().strip().split())\n",
    "x, y = [], []\n",
    "for i in range(n):\n",
    "    data = list(map(float, input().strip().split()))\n",
    "    x.append(data[:-1])\n",
    "    y.append(data[-1])\n",
    "    \n",
    "reg = LinearRegression()\n",
    "reg.fit(x,y)\n",
    "\n",
    "a = reg.intercept_\n",
    "b = reg.coef_\n",
    " \n",
    "q = int(input()) \n",
    " \n",
    "for j in range(q):\n",
    "    data = list(map(float,input().strip().split()))\n",
    "    y = a + np.dot(data, b) \n",
    "    print(round(y,2))"
   ]
  }
 ],
 "metadata": {
  "kernelspec": {
   "display_name": "Python 3",
   "language": "python",
   "name": "python3"
  },
  "language_info": {
   "codemirror_mode": {
    "name": "ipython",
    "version": 3
   },
   "file_extension": ".py",
   "mimetype": "text/x-python",
   "name": "python",
   "nbconvert_exporter": "python",
   "pygments_lexer": "ipython3",
   "version": "3.8.6"
  }
 },
 "nbformat": 4,
 "nbformat_minor": 5
}
