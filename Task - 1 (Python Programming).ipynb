{
 "cells": [
  {
   "cell_type": "code",
   "execution_count": 2,
   "id": "45e7daf3",
   "metadata": {},
   "outputs": [
    {
     "name": "stdout",
     "output_type": "stream",
     "text": [
      "Hello, World!\n"
     ]
    }
   ],
   "source": [
    "# Question 1\n",
    "\n",
    "print(\"Hello, World!\")"
   ]
  },
  {
   "cell_type": "code",
   "execution_count": null,
   "id": "090302a5",
   "metadata": {},
   "outputs": [],
   "source": [
    "# Question 2\n",
    "\n",
    "import math\n",
    "import os\n",
    "import random\n",
    "import re\n",
    "import sys\n",
    "\n",
    "def check():\n",
    "    if n%2 != 0:\n",
    "        print(\"Weird\")\n",
    "    elif n%2 == 0 and 2<n<=5:\n",
    "        print(\"Not Weird\")\n",
    "    elif n%2 == 0 and 6<n<=20:\n",
    "        print(\"Weird\")\n",
    "    else:\n",
    "        print(\"Not Weird\")\n",
    "        \n",
    "        \n",
    "if __name__ == '__main__':\n",
    "    n = int(input().strip())\n",
    "    check()\n"
   ]
  },
  {
   "cell_type": "code",
   "execution_count": null,
   "id": "05935974",
   "metadata": {},
   "outputs": [],
   "source": [
    "# Question 3\n",
    "\n",
    "def division(a,b):\n",
    "    print(a//b)\n",
    "    print(a/b)\n",
    "\n",
    "if __name__ == '__main__':\n",
    "    a = int(input().strip())\n",
    "    b = int(input().strip())\n",
    "    division(a,b)"
   ]
  },
  {
   "cell_type": "code",
   "execution_count": null,
   "id": "9cd5008f",
   "metadata": {},
   "outputs": [],
   "source": [
    "# Question 4\n",
    "\n",
    "def add(a,b):\n",
    "    print(a + b)\n",
    "def sub(a,b):\n",
    "    print(a - b)\n",
    "def mul(a,b):\n",
    "    print(a * b)\n",
    "    \n",
    "if __name__ == '__main__':\n",
    "    a = int(input().strip())\n",
    "    b = int(input().strip())\n",
    "    add(a,b)\n",
    "    sub(a,b)\n",
    "    mul(a,b)"
   ]
  },
  {
   "cell_type": "code",
   "execution_count": null,
   "id": "98ff9314",
   "metadata": {},
   "outputs": [],
   "source": [
    "# Question 5\n",
    "\n",
    "def loop(n):\n",
    "    for i in range(n):\n",
    "        print(i * i, end = \"\\n\")\n",
    "\n",
    "if __name__ == '__main__':\n",
    "    n = int(input().strip())\n",
    "    loop(n)"
   ]
  },
  {
   "cell_type": "code",
   "execution_count": null,
   "id": "41938e43",
   "metadata": {},
   "outputs": [],
   "source": [
    "# Question 6\n",
    "\n",
    "def is_leap(year):\n",
    "    leap = False\n",
    "    \n",
    "    # Write your logic here\n",
    "    if year % 4 == 0:\n",
    "        if year % 100 == 0 and year %400 != 0:\n",
    "                leap = False\n",
    "        else:\n",
    "            leap = True\n",
    "    else:\n",
    "        leap = False\n",
    "        \n",
    "    return leap\n",
    "    \n",
    "year = int(input())\n",
    "print(is_leap(year))"
   ]
  },
  {
   "cell_type": "code",
   "execution_count": null,
   "id": "9196094a",
   "metadata": {},
   "outputs": [],
   "source": [
    "# Question 7\n",
    "\n",
    "def consecutive_numbers(n):\n",
    "    for i in range(1,n+1):\n",
    "        print(i,end = \"\")\n",
    "        \n",
    "if __name__ == '__main__':\n",
    "    n = int(input().strip())\n",
    "    consecutive_numbers(n)"
   ]
  }
 ],
 "metadata": {
  "kernelspec": {
   "display_name": "Python 3",
   "language": "python",
   "name": "python3"
  },
  "language_info": {
   "codemirror_mode": {
    "name": "ipython",
    "version": 3
   },
   "file_extension": ".py",
   "mimetype": "text/x-python",
   "name": "python",
   "nbconvert_exporter": "python",
   "pygments_lexer": "ipython3",
   "version": "3.8.7"
  }
 },
 "nbformat": 4,
 "nbformat_minor": 5
}
